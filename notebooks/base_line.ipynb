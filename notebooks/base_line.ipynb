{
 "cells": [
  {
   "cell_type": "markdown",
   "metadata": {},
   "source": [
    "# Baseline Models (Logistic Regression)\n"
   ]
  },
  {
   "cell_type": "markdown",
   "metadata": {},
   "source": [
    "## Setups\n"
   ]
  },
  {
   "cell_type": "code",
   "execution_count": 1,
   "metadata": {},
   "outputs": [],
   "source": [
    "\"\"\"This notebook is for comparing a logistic regression model trained using the balanced split to other methods.\n",
    "The idea behind the balanced split can be found in here: https://arxiv.org/abs/2212.11116\"\"\"\n",
    "\n",
    "import numpy as np\n",
    "import pandas as pd\n",
    "from datasets import load_from_disk, Dataset\n",
    "from sklearn.model_selection import train_test_split\n",
    "from sklearn.metrics import classification_report\n",
    "from sklearn.linear_model import LogisticRegression"
   ]
  },
  {
   "cell_type": "code",
   "execution_count": 2,
   "metadata": {},
   "outputs": [
    {
     "data": {
      "text/plain": [
       "DatasetDict({\n",
       "    train: Dataset({\n",
       "        features: ['text', 'labels'],\n",
       "        num_rows: 11314\n",
       "    })\n",
       "    test: Dataset({\n",
       "        features: ['text', 'labels'],\n",
       "        num_rows: 7532\n",
       "    })\n",
       "})"
      ]
     },
     "execution_count": 2,
     "metadata": {},
     "output_type": "execute_result"
    }
   ],
   "source": [
    "data_path = \"../data/20-news-groups/\"\n",
    "data = load_from_disk(dataset_path=data_path)\n",
    "data"
   ]
  },
  {
   "cell_type": "code",
   "execution_count": 3,
   "metadata": {},
   "outputs": [],
   "source": [
    "seed = 42\n",
    "label_names = data[\"test\"].features[\"labels\"].names"
   ]
  },
  {
   "cell_type": "code",
   "execution_count": 4,
   "metadata": {},
   "outputs": [],
   "source": [
    "def clean_text(text):\n",
    "    return \" \".join(text.split(\"\\n\\n\")[1:]).replace(\"\\n\", \" \")"
   ]
  },
  {
   "cell_type": "code",
   "execution_count": 5,
   "metadata": {},
   "outputs": [
    {
     "name": "stderr",
     "output_type": "stream",
     "text": [
      "Loading cached processed dataset at d:\\Programming Projects\\Train Test Split\\data\\20-news-groups\\train\\cache-5742b33e0f8e5cda.arrow\n",
      "Loading cached processed dataset at d:\\Programming Projects\\Train Test Split\\data\\20-news-groups\\test\\cache-41ef60a49030ab19.arrow\n"
     ]
    },
    {
     "data": {
      "text/plain": [
       "DatasetDict({\n",
       "    train: Dataset({\n",
       "        features: ['text', 'labels'],\n",
       "        num_rows: 11314\n",
       "    })\n",
       "    test: Dataset({\n",
       "        features: ['text', 'labels'],\n",
       "        num_rows: 7532\n",
       "    })\n",
       "})"
      ]
     },
     "execution_count": 5,
     "metadata": {},
     "output_type": "execute_result"
    }
   ],
   "source": [
    "clean_data = data.map(\n",
    "    lambda x: {\"text\": [clean_text(t) for t in x[\"text\"]]},\n",
    "    batched=True,\n",
    "    remove_columns=[\"text\"],\n",
    ")\n",
    "clean_data"
   ]
  },
  {
   "cell_type": "code",
   "execution_count": 6,
   "metadata": {},
   "outputs": [
    {
     "data": {
      "text/plain": [
       "{'text': ' I was wondering if anyone out there could enlighten me on this car I saw the other day. It was a 2-door sports car, looked to be from the late 60s/ early 70s. It was called a Bricklin. The doors were really small. In addition, the front bumper was separate from the rest of the body. This is  all I know. If anyone can tellme a model name, engine specs, years of production, where this car is made, history, or whatever info you have on this funky looking car, please e-mail. Thanks, - IL    ---- brought to you by your neighborhood Lerxst ----   ',\n",
       " 'labels': 7}"
      ]
     },
     "execution_count": 6,
     "metadata": {},
     "output_type": "execute_result"
    }
   ],
   "source": [
    "clean_data[\"train\"][0]"
   ]
  },
  {
   "cell_type": "code",
   "execution_count": 7,
   "metadata": {},
   "outputs": [
    {
     "name": "stderr",
     "output_type": "stream",
     "text": [
      "Warning : `load_model` does not return WordVectorModel or SupervisedModel any more, but a `FastText` object which is very similar.\n"
     ]
    }
   ],
   "source": [
    "import fasttext\n",
    "\n",
    "encoder = fasttext.load_model(\"../models/cc.en.300.bin\")"
   ]
  },
  {
   "cell_type": "code",
   "execution_count": 8,
   "metadata": {},
   "outputs": [],
   "source": [
    "def vectorize(batch):\n",
    "    return {\"features\": [encoder.get_sentence_vector(t) for t in batch[\"text\"]]}"
   ]
  },
  {
   "cell_type": "code",
   "execution_count": 9,
   "metadata": {},
   "outputs": [
    {
     "name": "stderr",
     "output_type": "stream",
     "text": [
      "Parameter 'function'=<function vectorize at 0x00000173254ED4C0> of the transform datasets.arrow_dataset.Dataset._map_single couldn't be hashed properly, a random hash was used instead. Make sure your transforms and parameters are serializable with pickle or dill for the dataset fingerprinting and caching to work. If you reuse this transform, the caching mechanism will consider it to be different from the previous calls and recompute everything. This warning is only showed once. Subsequent hashing failures won't be showed.\n"
     ]
    },
    {
     "data": {
      "application/vnd.jupyter.widget-view+json": {
       "model_id": "557f0993b8df4cfe9b8d275c819ff176",
       "version_major": 2,
       "version_minor": 0
      },
      "text/plain": [
       "Map:   0%|          | 0/11314 [00:00<?, ? examples/s]"
      ]
     },
     "metadata": {},
     "output_type": "display_data"
    },
    {
     "data": {
      "application/vnd.jupyter.widget-view+json": {
       "model_id": "13a586ba384e4b9386e708ce1d7e9991",
       "version_major": 2,
       "version_minor": 0
      },
      "text/plain": [
       "Map:   0%|          | 0/7532 [00:00<?, ? examples/s]"
      ]
     },
     "metadata": {},
     "output_type": "display_data"
    },
    {
     "data": {
      "text/plain": [
       "DatasetDict({\n",
       "    train: Dataset({\n",
       "        features: ['labels', 'features'],\n",
       "        num_rows: 11314\n",
       "    })\n",
       "    test: Dataset({\n",
       "        features: ['labels', 'features'],\n",
       "        num_rows: 7532\n",
       "    })\n",
       "})"
      ]
     },
     "execution_count": 9,
     "metadata": {},
     "output_type": "execute_result"
    }
   ],
   "source": [
    "encoded_data = clean_data.map(vectorize, batched=True, remove_columns=[\"text\"])\n",
    "encoded_data"
   ]
  },
  {
   "cell_type": "markdown",
   "metadata": {},
   "source": [
    "## Split Function\n"
   ]
  },
  {
   "cell_type": "code",
   "execution_count": 10,
   "metadata": {},
   "outputs": [],
   "source": [
    "def split(ds, split=\"stratified\", seed=42, train_size=0.75):\n",
    "    splits = None\n",
    "    if split == \"stratified\":\n",
    "        splits = train_test_split(\n",
    "            ds, stratify=ds.labels, random_state=seed, train_size=train_size\n",
    "        )\n",
    "    elif split == \"balanced\":\n",
    "        class_ratios = ds.labels.value_counts(normalize=True)\n",
    "        classes = ds.labels.unique()\n",
    "        num_classes = len(classes)\n",
    "        min_ratio = min(class_ratios.to_list())\n",
    "        train_size = min(train_size, num_classes * min_ratio)\n",
    "        print(f\"Train size used: {train_size}\")\n",
    "        class_ratio = train_size / num_classes\n",
    "        examples_per_class = int(class_ratio * len(ds))\n",
    "\n",
    "        inds = []\n",
    "        for c in classes:\n",
    "            sample = ds[ds.labels == c].sample(examples_per_class, random_state=seed)\n",
    "            inds.extend(sample.index.to_list())\n",
    "        splits = (ds.iloc[inds, :], ds.drop(index=inds))\n",
    "    else:\n",
    "        raise Exception(\"Unknown split method\")\n",
    "    return splits"
   ]
  },
  {
   "cell_type": "markdown",
   "metadata": {},
   "source": [
    "## Balanced Split\n"
   ]
  },
  {
   "cell_type": "code",
   "execution_count": 11,
   "metadata": {},
   "outputs": [],
   "source": [
    "ds = encoded_data.copy()"
   ]
  },
  {
   "cell_type": "code",
   "execution_count": 12,
   "metadata": {},
   "outputs": [
    {
     "name": "stdout",
     "output_type": "stream",
     "text": [
      "Train size used: 0.6\n"
     ]
    }
   ],
   "source": [
    "splits = split(ds[\"train\"].to_pandas(), split=\"balanced\", train_size=0.6)"
   ]
  },
  {
   "cell_type": "code",
   "execution_count": 13,
   "metadata": {},
   "outputs": [
    {
     "data": {
      "text/plain": [
       "{'train': Dataset({\n",
       "     features: ['labels', 'features'],\n",
       "     num_rows: 6780\n",
       " }),\n",
       " 'test': Dataset({\n",
       "     features: ['labels', 'features'],\n",
       "     num_rows: 7532\n",
       " }),\n",
       " 'valid': Dataset({\n",
       "     features: ['labels', 'features'],\n",
       "     num_rows: 4534\n",
       " })}"
      ]
     },
     "execution_count": 13,
     "metadata": {},
     "output_type": "execute_result"
    }
   ],
   "source": [
    "ds[\"train\"] = Dataset.from_pandas(splits[0].reset_index(drop=True))\n",
    "ds[\"valid\"] = Dataset.from_pandas(splits[1].reset_index(drop=True))\n",
    "ds"
   ]
  },
  {
   "cell_type": "code",
   "execution_count": 14,
   "metadata": {},
   "outputs": [],
   "source": [
    "model = LogisticRegression(max_iter=int(1e5), random_state=seed, C=1000)"
   ]
  },
  {
   "cell_type": "code",
   "execution_count": 15,
   "metadata": {},
   "outputs": [
    {
     "data": {
      "text/html": [
       "<style>#sk-container-id-1 {color: black;}#sk-container-id-1 pre{padding: 0;}#sk-container-id-1 div.sk-toggleable {background-color: white;}#sk-container-id-1 label.sk-toggleable__label {cursor: pointer;display: block;width: 100%;margin-bottom: 0;padding: 0.3em;box-sizing: border-box;text-align: center;}#sk-container-id-1 label.sk-toggleable__label-arrow:before {content: \"▸\";float: left;margin-right: 0.25em;color: #696969;}#sk-container-id-1 label.sk-toggleable__label-arrow:hover:before {color: black;}#sk-container-id-1 div.sk-estimator:hover label.sk-toggleable__label-arrow:before {color: black;}#sk-container-id-1 div.sk-toggleable__content {max-height: 0;max-width: 0;overflow: hidden;text-align: left;background-color: #f0f8ff;}#sk-container-id-1 div.sk-toggleable__content pre {margin: 0.2em;color: black;border-radius: 0.25em;background-color: #f0f8ff;}#sk-container-id-1 input.sk-toggleable__control:checked~div.sk-toggleable__content {max-height: 200px;max-width: 100%;overflow: auto;}#sk-container-id-1 input.sk-toggleable__control:checked~label.sk-toggleable__label-arrow:before {content: \"▾\";}#sk-container-id-1 div.sk-estimator input.sk-toggleable__control:checked~label.sk-toggleable__label {background-color: #d4ebff;}#sk-container-id-1 div.sk-label input.sk-toggleable__control:checked~label.sk-toggleable__label {background-color: #d4ebff;}#sk-container-id-1 input.sk-hidden--visually {border: 0;clip: rect(1px 1px 1px 1px);clip: rect(1px, 1px, 1px, 1px);height: 1px;margin: -1px;overflow: hidden;padding: 0;position: absolute;width: 1px;}#sk-container-id-1 div.sk-estimator {font-family: monospace;background-color: #f0f8ff;border: 1px dotted black;border-radius: 0.25em;box-sizing: border-box;margin-bottom: 0.5em;}#sk-container-id-1 div.sk-estimator:hover {background-color: #d4ebff;}#sk-container-id-1 div.sk-parallel-item::after {content: \"\";width: 100%;border-bottom: 1px solid gray;flex-grow: 1;}#sk-container-id-1 div.sk-label:hover label.sk-toggleable__label {background-color: #d4ebff;}#sk-container-id-1 div.sk-serial::before {content: \"\";position: absolute;border-left: 1px solid gray;box-sizing: border-box;top: 0;bottom: 0;left: 50%;z-index: 0;}#sk-container-id-1 div.sk-serial {display: flex;flex-direction: column;align-items: center;background-color: white;padding-right: 0.2em;padding-left: 0.2em;position: relative;}#sk-container-id-1 div.sk-item {position: relative;z-index: 1;}#sk-container-id-1 div.sk-parallel {display: flex;align-items: stretch;justify-content: center;background-color: white;position: relative;}#sk-container-id-1 div.sk-item::before, #sk-container-id-1 div.sk-parallel-item::before {content: \"\";position: absolute;border-left: 1px solid gray;box-sizing: border-box;top: 0;bottom: 0;left: 50%;z-index: -1;}#sk-container-id-1 div.sk-parallel-item {display: flex;flex-direction: column;z-index: 1;position: relative;background-color: white;}#sk-container-id-1 div.sk-parallel-item:first-child::after {align-self: flex-end;width: 50%;}#sk-container-id-1 div.sk-parallel-item:last-child::after {align-self: flex-start;width: 50%;}#sk-container-id-1 div.sk-parallel-item:only-child::after {width: 0;}#sk-container-id-1 div.sk-dashed-wrapped {border: 1px dashed gray;margin: 0 0.4em 0.5em 0.4em;box-sizing: border-box;padding-bottom: 0.4em;background-color: white;}#sk-container-id-1 div.sk-label label {font-family: monospace;font-weight: bold;display: inline-block;line-height: 1.2em;}#sk-container-id-1 div.sk-label-container {text-align: center;}#sk-container-id-1 div.sk-container {/* jupyter's `normalize.less` sets `[hidden] { display: none; }` but bootstrap.min.css set `[hidden] { display: none !important; }` so we also need the `!important` here to be able to override the default hidden behavior on the sphinx rendered scikit-learn.org. See: https://github.com/scikit-learn/scikit-learn/issues/21755 */display: inline-block !important;position: relative;}#sk-container-id-1 div.sk-text-repr-fallback {display: none;}</style><div id=\"sk-container-id-1\" class=\"sk-top-container\"><div class=\"sk-text-repr-fallback\"><pre>LogisticRegression(C=1000, max_iter=100000, random_state=42)</pre><b>In a Jupyter environment, please rerun this cell to show the HTML representation or trust the notebook. <br />On GitHub, the HTML representation is unable to render, please try loading this page with nbviewer.org.</b></div><div class=\"sk-container\" hidden><div class=\"sk-item\"><div class=\"sk-estimator sk-toggleable\"><input class=\"sk-toggleable__control sk-hidden--visually\" id=\"sk-estimator-id-1\" type=\"checkbox\" checked><label for=\"sk-estimator-id-1\" class=\"sk-toggleable__label sk-toggleable__label-arrow\">LogisticRegression</label><div class=\"sk-toggleable__content\"><pre>LogisticRegression(C=1000, max_iter=100000, random_state=42)</pre></div></div></div></div></div>"
      ],
      "text/plain": [
       "LogisticRegression(C=1000, max_iter=100000, random_state=42)"
      ]
     },
     "execution_count": 15,
     "metadata": {},
     "output_type": "execute_result"
    }
   ],
   "source": [
    "model.fit(ds[\"train\"][\"features\"], ds[\"train\"][\"labels\"])"
   ]
  },
  {
   "cell_type": "code",
   "execution_count": 16,
   "metadata": {},
   "outputs": [
    {
     "name": "stdout",
     "output_type": "stream",
     "text": [
      "                          precision    recall  f1-score   support\n",
      "\n",
      "             alt.atheism       0.46      0.49      0.47       319\n",
      "           comp.graphics       0.60      0.61      0.60       389\n",
      " comp.os.ms-windows.misc       0.58      0.56      0.57       394\n",
      "comp.sys.ibm.pc.hardware       0.53      0.53      0.53       392\n",
      "   comp.sys.mac.hardware       0.59      0.57      0.58       385\n",
      "          comp.windows.x       0.72      0.66      0.69       395\n",
      "            misc.forsale       0.77      0.74      0.75       390\n",
      "               rec.autos       0.80      0.76      0.77       396\n",
      "         rec.motorcycles       0.76      0.78      0.77       398\n",
      "      rec.sport.baseball       0.90      0.84      0.87       397\n",
      "        rec.sport.hockey       0.93      0.92      0.92       399\n",
      "               sci.crypt       0.77      0.73      0.75       396\n",
      "         sci.electronics       0.56      0.62      0.59       393\n",
      "                 sci.med       0.78      0.81      0.79       396\n",
      "               sci.space       0.78      0.77      0.78       394\n",
      "  soc.religion.christian       0.72      0.72      0.72       398\n",
      "      talk.politics.guns       0.56      0.63      0.59       364\n",
      "   talk.politics.mideast       0.87      0.80      0.83       376\n",
      "      talk.politics.misc       0.45      0.45      0.45       310\n",
      "      talk.religion.misc       0.35      0.42      0.38       251\n",
      "\n",
      "                accuracy                           0.68      7532\n",
      "               macro avg       0.67      0.67      0.67      7532\n",
      "            weighted avg       0.68      0.68      0.68      7532\n",
      "\n"
     ]
    }
   ],
   "source": [
    "labels = ds[\"test\"][\"labels\"]\n",
    "preds = model.predict(ds[\"test\"][\"features\"])\n",
    "print(classification_report(labels, preds, target_names=label_names))"
   ]
  },
  {
   "cell_type": "markdown",
   "metadata": {},
   "source": [
    "## Stratified Split\n"
   ]
  },
  {
   "cell_type": "code",
   "execution_count": 17,
   "metadata": {},
   "outputs": [],
   "source": [
    "ds = encoded_data.copy()\n",
    "splits = split(ds[\"train\"].to_pandas(), split=\"stratified\", train_size=0.6)"
   ]
  },
  {
   "cell_type": "code",
   "execution_count": 18,
   "metadata": {},
   "outputs": [
    {
     "data": {
      "text/plain": [
       "{'train': Dataset({\n",
       "     features: ['labels', 'features'],\n",
       "     num_rows: 6788\n",
       " }),\n",
       " 'test': Dataset({\n",
       "     features: ['labels', 'features'],\n",
       "     num_rows: 7532\n",
       " }),\n",
       " 'valid': Dataset({\n",
       "     features: ['labels', 'features'],\n",
       "     num_rows: 4526\n",
       " })}"
      ]
     },
     "execution_count": 18,
     "metadata": {},
     "output_type": "execute_result"
    }
   ],
   "source": [
    "ds[\"train\"] = Dataset.from_pandas(splits[0].reset_index(drop=True))\n",
    "ds[\"valid\"] = Dataset.from_pandas(splits[1].reset_index(drop=True))\n",
    "ds"
   ]
  },
  {
   "cell_type": "code",
   "execution_count": 19,
   "metadata": {},
   "outputs": [],
   "source": [
    "model = LogisticRegression(max_iter=int(1e5), random_state=seed, C=1000)"
   ]
  },
  {
   "cell_type": "code",
   "execution_count": 20,
   "metadata": {},
   "outputs": [
    {
     "data": {
      "text/html": [
       "<style>#sk-container-id-2 {color: black;}#sk-container-id-2 pre{padding: 0;}#sk-container-id-2 div.sk-toggleable {background-color: white;}#sk-container-id-2 label.sk-toggleable__label {cursor: pointer;display: block;width: 100%;margin-bottom: 0;padding: 0.3em;box-sizing: border-box;text-align: center;}#sk-container-id-2 label.sk-toggleable__label-arrow:before {content: \"▸\";float: left;margin-right: 0.25em;color: #696969;}#sk-container-id-2 label.sk-toggleable__label-arrow:hover:before {color: black;}#sk-container-id-2 div.sk-estimator:hover label.sk-toggleable__label-arrow:before {color: black;}#sk-container-id-2 div.sk-toggleable__content {max-height: 0;max-width: 0;overflow: hidden;text-align: left;background-color: #f0f8ff;}#sk-container-id-2 div.sk-toggleable__content pre {margin: 0.2em;color: black;border-radius: 0.25em;background-color: #f0f8ff;}#sk-container-id-2 input.sk-toggleable__control:checked~div.sk-toggleable__content {max-height: 200px;max-width: 100%;overflow: auto;}#sk-container-id-2 input.sk-toggleable__control:checked~label.sk-toggleable__label-arrow:before {content: \"▾\";}#sk-container-id-2 div.sk-estimator input.sk-toggleable__control:checked~label.sk-toggleable__label {background-color: #d4ebff;}#sk-container-id-2 div.sk-label input.sk-toggleable__control:checked~label.sk-toggleable__label {background-color: #d4ebff;}#sk-container-id-2 input.sk-hidden--visually {border: 0;clip: rect(1px 1px 1px 1px);clip: rect(1px, 1px, 1px, 1px);height: 1px;margin: -1px;overflow: hidden;padding: 0;position: absolute;width: 1px;}#sk-container-id-2 div.sk-estimator {font-family: monospace;background-color: #f0f8ff;border: 1px dotted black;border-radius: 0.25em;box-sizing: border-box;margin-bottom: 0.5em;}#sk-container-id-2 div.sk-estimator:hover {background-color: #d4ebff;}#sk-container-id-2 div.sk-parallel-item::after {content: \"\";width: 100%;border-bottom: 1px solid gray;flex-grow: 1;}#sk-container-id-2 div.sk-label:hover label.sk-toggleable__label {background-color: #d4ebff;}#sk-container-id-2 div.sk-serial::before {content: \"\";position: absolute;border-left: 1px solid gray;box-sizing: border-box;top: 0;bottom: 0;left: 50%;z-index: 0;}#sk-container-id-2 div.sk-serial {display: flex;flex-direction: column;align-items: center;background-color: white;padding-right: 0.2em;padding-left: 0.2em;position: relative;}#sk-container-id-2 div.sk-item {position: relative;z-index: 1;}#sk-container-id-2 div.sk-parallel {display: flex;align-items: stretch;justify-content: center;background-color: white;position: relative;}#sk-container-id-2 div.sk-item::before, #sk-container-id-2 div.sk-parallel-item::before {content: \"\";position: absolute;border-left: 1px solid gray;box-sizing: border-box;top: 0;bottom: 0;left: 50%;z-index: -1;}#sk-container-id-2 div.sk-parallel-item {display: flex;flex-direction: column;z-index: 1;position: relative;background-color: white;}#sk-container-id-2 div.sk-parallel-item:first-child::after {align-self: flex-end;width: 50%;}#sk-container-id-2 div.sk-parallel-item:last-child::after {align-self: flex-start;width: 50%;}#sk-container-id-2 div.sk-parallel-item:only-child::after {width: 0;}#sk-container-id-2 div.sk-dashed-wrapped {border: 1px dashed gray;margin: 0 0.4em 0.5em 0.4em;box-sizing: border-box;padding-bottom: 0.4em;background-color: white;}#sk-container-id-2 div.sk-label label {font-family: monospace;font-weight: bold;display: inline-block;line-height: 1.2em;}#sk-container-id-2 div.sk-label-container {text-align: center;}#sk-container-id-2 div.sk-container {/* jupyter's `normalize.less` sets `[hidden] { display: none; }` but bootstrap.min.css set `[hidden] { display: none !important; }` so we also need the `!important` here to be able to override the default hidden behavior on the sphinx rendered scikit-learn.org. See: https://github.com/scikit-learn/scikit-learn/issues/21755 */display: inline-block !important;position: relative;}#sk-container-id-2 div.sk-text-repr-fallback {display: none;}</style><div id=\"sk-container-id-2\" class=\"sk-top-container\"><div class=\"sk-text-repr-fallback\"><pre>LogisticRegression(C=1000, max_iter=100000, random_state=42)</pre><b>In a Jupyter environment, please rerun this cell to show the HTML representation or trust the notebook. <br />On GitHub, the HTML representation is unable to render, please try loading this page with nbviewer.org.</b></div><div class=\"sk-container\" hidden><div class=\"sk-item\"><div class=\"sk-estimator sk-toggleable\"><input class=\"sk-toggleable__control sk-hidden--visually\" id=\"sk-estimator-id-2\" type=\"checkbox\" checked><label for=\"sk-estimator-id-2\" class=\"sk-toggleable__label sk-toggleable__label-arrow\">LogisticRegression</label><div class=\"sk-toggleable__content\"><pre>LogisticRegression(C=1000, max_iter=100000, random_state=42)</pre></div></div></div></div></div>"
      ],
      "text/plain": [
       "LogisticRegression(C=1000, max_iter=100000, random_state=42)"
      ]
     },
     "execution_count": 20,
     "metadata": {},
     "output_type": "execute_result"
    }
   ],
   "source": [
    "model.fit(ds[\"train\"][\"features\"], ds[\"train\"][\"labels\"])"
   ]
  },
  {
   "cell_type": "code",
   "execution_count": 21,
   "metadata": {},
   "outputs": [
    {
     "name": "stdout",
     "output_type": "stream",
     "text": [
      "                          precision    recall  f1-score   support\n",
      "\n",
      "             alt.atheism       0.46      0.48      0.47       319\n",
      "           comp.graphics       0.62      0.60      0.61       389\n",
      " comp.os.ms-windows.misc       0.54      0.57      0.56       394\n",
      "comp.sys.ibm.pc.hardware       0.57      0.60      0.58       392\n",
      "   comp.sys.mac.hardware       0.66      0.60      0.63       385\n",
      "          comp.windows.x       0.73      0.63      0.68       395\n",
      "            misc.forsale       0.77      0.73      0.75       390\n",
      "               rec.autos       0.79      0.79      0.79       396\n",
      "         rec.motorcycles       0.78      0.78      0.78       398\n",
      "      rec.sport.baseball       0.87      0.87      0.87       397\n",
      "        rec.sport.hockey       0.92      0.91      0.92       399\n",
      "               sci.crypt       0.80      0.73      0.76       396\n",
      "         sci.electronics       0.54      0.60      0.57       393\n",
      "                 sci.med       0.76      0.81      0.78       396\n",
      "               sci.space       0.77      0.77      0.77       394\n",
      "  soc.religion.christian       0.70      0.79      0.74       398\n",
      "      talk.politics.guns       0.60      0.70      0.65       364\n",
      "   talk.politics.mideast       0.88      0.79      0.83       376\n",
      "      talk.politics.misc       0.48      0.47      0.48       310\n",
      "      talk.religion.misc       0.35      0.31      0.33       251\n",
      "\n",
      "                accuracy                           0.69      7532\n",
      "               macro avg       0.68      0.68      0.68      7532\n",
      "            weighted avg       0.69      0.69      0.69      7532\n",
      "\n"
     ]
    }
   ],
   "source": [
    "labels = ds[\"test\"][\"labels\"]\n",
    "preds = model.predict(ds[\"test\"][\"features\"])\n",
    "print(classification_report(labels, preds, target_names=label_names))"
   ]
  },
  {
   "cell_type": "markdown",
   "metadata": {},
   "source": [
    "## Stratified Split (Weighted Learning)\n"
   ]
  },
  {
   "cell_type": "code",
   "execution_count": 22,
   "metadata": {},
   "outputs": [],
   "source": [
    "ds = encoded_data.copy()\n",
    "splits = split(ds[\"train\"].to_pandas(), split=\"stratified\", train_size=0.6)"
   ]
  },
  {
   "cell_type": "code",
   "execution_count": 23,
   "metadata": {},
   "outputs": [
    {
     "data": {
      "text/plain": [
       "{'train': Dataset({\n",
       "     features: ['labels', 'features'],\n",
       "     num_rows: 6788\n",
       " }),\n",
       " 'test': Dataset({\n",
       "     features: ['labels', 'features'],\n",
       "     num_rows: 7532\n",
       " }),\n",
       " 'valid': Dataset({\n",
       "     features: ['labels', 'features'],\n",
       "     num_rows: 4526\n",
       " })}"
      ]
     },
     "execution_count": 23,
     "metadata": {},
     "output_type": "execute_result"
    }
   ],
   "source": [
    "ds[\"train\"] = Dataset.from_pandas(splits[0].reset_index(drop=True))\n",
    "ds[\"valid\"] = Dataset.from_pandas(splits[1].reset_index(drop=True))\n",
    "ds"
   ]
  },
  {
   "cell_type": "code",
   "execution_count": 25,
   "metadata": {},
   "outputs": [],
   "source": [
    "class_weights = splits[0].labels.value_counts(normalize=True).to_dict()"
   ]
  },
  {
   "cell_type": "code",
   "execution_count": 26,
   "metadata": {},
   "outputs": [],
   "source": [
    "model = LogisticRegression(\n",
    "    max_iter=int(1e5), random_state=seed, C=1000, class_weight=class_weights\n",
    ")"
   ]
  },
  {
   "cell_type": "code",
   "execution_count": 27,
   "metadata": {},
   "outputs": [
    {
     "data": {
      "text/html": [
       "<style>#sk-container-id-3 {color: black;}#sk-container-id-3 pre{padding: 0;}#sk-container-id-3 div.sk-toggleable {background-color: white;}#sk-container-id-3 label.sk-toggleable__label {cursor: pointer;display: block;width: 100%;margin-bottom: 0;padding: 0.3em;box-sizing: border-box;text-align: center;}#sk-container-id-3 label.sk-toggleable__label-arrow:before {content: \"▸\";float: left;margin-right: 0.25em;color: #696969;}#sk-container-id-3 label.sk-toggleable__label-arrow:hover:before {color: black;}#sk-container-id-3 div.sk-estimator:hover label.sk-toggleable__label-arrow:before {color: black;}#sk-container-id-3 div.sk-toggleable__content {max-height: 0;max-width: 0;overflow: hidden;text-align: left;background-color: #f0f8ff;}#sk-container-id-3 div.sk-toggleable__content pre {margin: 0.2em;color: black;border-radius: 0.25em;background-color: #f0f8ff;}#sk-container-id-3 input.sk-toggleable__control:checked~div.sk-toggleable__content {max-height: 200px;max-width: 100%;overflow: auto;}#sk-container-id-3 input.sk-toggleable__control:checked~label.sk-toggleable__label-arrow:before {content: \"▾\";}#sk-container-id-3 div.sk-estimator input.sk-toggleable__control:checked~label.sk-toggleable__label {background-color: #d4ebff;}#sk-container-id-3 div.sk-label input.sk-toggleable__control:checked~label.sk-toggleable__label {background-color: #d4ebff;}#sk-container-id-3 input.sk-hidden--visually {border: 0;clip: rect(1px 1px 1px 1px);clip: rect(1px, 1px, 1px, 1px);height: 1px;margin: -1px;overflow: hidden;padding: 0;position: absolute;width: 1px;}#sk-container-id-3 div.sk-estimator {font-family: monospace;background-color: #f0f8ff;border: 1px dotted black;border-radius: 0.25em;box-sizing: border-box;margin-bottom: 0.5em;}#sk-container-id-3 div.sk-estimator:hover {background-color: #d4ebff;}#sk-container-id-3 div.sk-parallel-item::after {content: \"\";width: 100%;border-bottom: 1px solid gray;flex-grow: 1;}#sk-container-id-3 div.sk-label:hover label.sk-toggleable__label {background-color: #d4ebff;}#sk-container-id-3 div.sk-serial::before {content: \"\";position: absolute;border-left: 1px solid gray;box-sizing: border-box;top: 0;bottom: 0;left: 50%;z-index: 0;}#sk-container-id-3 div.sk-serial {display: flex;flex-direction: column;align-items: center;background-color: white;padding-right: 0.2em;padding-left: 0.2em;position: relative;}#sk-container-id-3 div.sk-item {position: relative;z-index: 1;}#sk-container-id-3 div.sk-parallel {display: flex;align-items: stretch;justify-content: center;background-color: white;position: relative;}#sk-container-id-3 div.sk-item::before, #sk-container-id-3 div.sk-parallel-item::before {content: \"\";position: absolute;border-left: 1px solid gray;box-sizing: border-box;top: 0;bottom: 0;left: 50%;z-index: -1;}#sk-container-id-3 div.sk-parallel-item {display: flex;flex-direction: column;z-index: 1;position: relative;background-color: white;}#sk-container-id-3 div.sk-parallel-item:first-child::after {align-self: flex-end;width: 50%;}#sk-container-id-3 div.sk-parallel-item:last-child::after {align-self: flex-start;width: 50%;}#sk-container-id-3 div.sk-parallel-item:only-child::after {width: 0;}#sk-container-id-3 div.sk-dashed-wrapped {border: 1px dashed gray;margin: 0 0.4em 0.5em 0.4em;box-sizing: border-box;padding-bottom: 0.4em;background-color: white;}#sk-container-id-3 div.sk-label label {font-family: monospace;font-weight: bold;display: inline-block;line-height: 1.2em;}#sk-container-id-3 div.sk-label-container {text-align: center;}#sk-container-id-3 div.sk-container {/* jupyter's `normalize.less` sets `[hidden] { display: none; }` but bootstrap.min.css set `[hidden] { display: none !important; }` so we also need the `!important` here to be able to override the default hidden behavior on the sphinx rendered scikit-learn.org. See: https://github.com/scikit-learn/scikit-learn/issues/21755 */display: inline-block !important;position: relative;}#sk-container-id-3 div.sk-text-repr-fallback {display: none;}</style><div id=\"sk-container-id-3\" class=\"sk-top-container\"><div class=\"sk-text-repr-fallback\"><pre>LogisticRegression(C=1000,\n",
       "                   class_weight={0: 0.04242781378903948, 1: 0.05156157925751326,\n",
       "                                 2: 0.052298173246906304,\n",
       "                                 3: 0.05215085444902769, 4: 0.05111962286387743,\n",
       "                                 5: 0.052445492044784915,\n",
       "                                 6: 0.05170889805539187,\n",
       "                                 7: 0.052445492044784915,\n",
       "                                 8: 0.05288744843842074, 9: 0.05274012964054213,\n",
       "                                 10: 0.05303476723629935,\n",
       "                                 11: 0.052592810842663526,\n",
       "                                 12: 0.052298173246906304,\n",
       "                                 13: 0.052445492044784915,\n",
       "                                 14: 0.052445492044784915,\n",
       "                                 15: 0.05288744843842074,\n",
       "                                 16: 0.04832056570418385,\n",
       "                                 17: 0.04979375368296995, 18: 0.041101944608132,\n",
       "                                 19: 0.033294048320565706},\n",
       "                   max_iter=100000, random_state=42)</pre><b>In a Jupyter environment, please rerun this cell to show the HTML representation or trust the notebook. <br />On GitHub, the HTML representation is unable to render, please try loading this page with nbviewer.org.</b></div><div class=\"sk-container\" hidden><div class=\"sk-item\"><div class=\"sk-estimator sk-toggleable\"><input class=\"sk-toggleable__control sk-hidden--visually\" id=\"sk-estimator-id-3\" type=\"checkbox\" checked><label for=\"sk-estimator-id-3\" class=\"sk-toggleable__label sk-toggleable__label-arrow\">LogisticRegression</label><div class=\"sk-toggleable__content\"><pre>LogisticRegression(C=1000,\n",
       "                   class_weight={0: 0.04242781378903948, 1: 0.05156157925751326,\n",
       "                                 2: 0.052298173246906304,\n",
       "                                 3: 0.05215085444902769, 4: 0.05111962286387743,\n",
       "                                 5: 0.052445492044784915,\n",
       "                                 6: 0.05170889805539187,\n",
       "                                 7: 0.052445492044784915,\n",
       "                                 8: 0.05288744843842074, 9: 0.05274012964054213,\n",
       "                                 10: 0.05303476723629935,\n",
       "                                 11: 0.052592810842663526,\n",
       "                                 12: 0.052298173246906304,\n",
       "                                 13: 0.052445492044784915,\n",
       "                                 14: 0.052445492044784915,\n",
       "                                 15: 0.05288744843842074,\n",
       "                                 16: 0.04832056570418385,\n",
       "                                 17: 0.04979375368296995, 18: 0.041101944608132,\n",
       "                                 19: 0.033294048320565706},\n",
       "                   max_iter=100000, random_state=42)</pre></div></div></div></div></div>"
      ],
      "text/plain": [
       "LogisticRegression(C=1000,\n",
       "                   class_weight={0: 0.04242781378903948, 1: 0.05156157925751326,\n",
       "                                 2: 0.052298173246906304,\n",
       "                                 3: 0.05215085444902769, 4: 0.05111962286387743,\n",
       "                                 5: 0.052445492044784915,\n",
       "                                 6: 0.05170889805539187,\n",
       "                                 7: 0.052445492044784915,\n",
       "                                 8: 0.05288744843842074, 9: 0.05274012964054213,\n",
       "                                 10: 0.05303476723629935,\n",
       "                                 11: 0.052592810842663526,\n",
       "                                 12: 0.052298173246906304,\n",
       "                                 13: 0.052445492044784915,\n",
       "                                 14: 0.052445492044784915,\n",
       "                                 15: 0.05288744843842074,\n",
       "                                 16: 0.04832056570418385,\n",
       "                                 17: 0.04979375368296995, 18: 0.041101944608132,\n",
       "                                 19: 0.033294048320565706},\n",
       "                   max_iter=100000, random_state=42)"
      ]
     },
     "execution_count": 27,
     "metadata": {},
     "output_type": "execute_result"
    }
   ],
   "source": [
    "model.fit(ds[\"train\"][\"features\"], ds[\"train\"][\"labels\"])"
   ]
  },
  {
   "cell_type": "code",
   "execution_count": 28,
   "metadata": {},
   "outputs": [
    {
     "name": "stdout",
     "output_type": "stream",
     "text": [
      "                          precision    recall  f1-score   support\n",
      "\n",
      "             alt.atheism       0.42      0.42      0.42       319\n",
      "           comp.graphics       0.62      0.62      0.62       389\n",
      " comp.os.ms-windows.misc       0.57      0.59      0.58       394\n",
      "comp.sys.ibm.pc.hardware       0.57      0.59      0.58       392\n",
      "   comp.sys.mac.hardware       0.69      0.56      0.62       385\n",
      "          comp.windows.x       0.72      0.65      0.68       395\n",
      "            misc.forsale       0.77      0.78      0.77       390\n",
      "               rec.autos       0.79      0.80      0.80       396\n",
      "         rec.motorcycles       0.72      0.78      0.75       398\n",
      "      rec.sport.baseball       0.86      0.87      0.86       397\n",
      "        rec.sport.hockey       0.93      0.90      0.91       399\n",
      "               sci.crypt       0.73      0.72      0.72       396\n",
      "         sci.electronics       0.60      0.61      0.61       393\n",
      "                 sci.med       0.77      0.83      0.79       396\n",
      "               sci.space       0.74      0.77      0.76       394\n",
      "  soc.religion.christian       0.59      0.89      0.71       398\n",
      "      talk.politics.guns       0.55      0.76      0.64       364\n",
      "   talk.politics.mideast       0.85      0.82      0.84       376\n",
      "      talk.politics.misc       0.53      0.37      0.44       310\n",
      "      talk.religion.misc       0.50      0.04      0.08       251\n",
      "\n",
      "                accuracy                           0.69      7532\n",
      "               macro avg       0.68      0.67      0.66      7532\n",
      "            weighted avg       0.68      0.69      0.67      7532\n",
      "\n"
     ]
    }
   ],
   "source": [
    "labels = ds[\"test\"][\"labels\"]\n",
    "preds = model.predict(ds[\"test\"][\"features\"])\n",
    "print(classification_report(labels, preds, target_names=label_names))"
   ]
  }
 ],
 "metadata": {
  "kernelspec": {
   "display_name": "main",
   "language": "python",
   "name": "python3"
  },
  "language_info": {
   "codemirror_mode": {
    "name": "ipython",
    "version": 3
   },
   "file_extension": ".py",
   "mimetype": "text/x-python",
   "name": "python",
   "nbconvert_exporter": "python",
   "pygments_lexer": "ipython3",
   "version": "3.8.17"
  },
  "orig_nbformat": 4
 },
 "nbformat": 4,
 "nbformat_minor": 2
}
